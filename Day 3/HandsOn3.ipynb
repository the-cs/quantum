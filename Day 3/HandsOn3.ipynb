{
 "cells": [
  {
   "cell_type": "markdown",
   "metadata": {},
   "source": [
    "# The Coding School's 2020 Quantum Computing Summer Camp\n",
    "Day 3: Introduction to Quantum Computing I \\\n",
    "July 15th 2020 \\\n",
    "Hands-on activity"
   ]
  },
  {
   "cell_type": "markdown",
   "metadata": {},
   "source": [
    "# Basics of Quantum Computing\n",
    "Quantum computers have access to certain gates that perform unitary evolutions on collections of two-level systems (spin-1/2 particles, for example). \\\n",
    "Let's review the 1-qubit $\\textbf{quantum gates}$ we have learned so far. \\\n",
    "\\\n",
    "Hadamard gate\n",
    "$H = \\frac{1}{\\sqrt{2}}\\begin{pmatrix}\n",
    "1 & 1 \\\\\n",
    "1 & -1\n",
    "\\end{pmatrix}\n",
    "$\n",
    "\\\n",
    "\\\n",
    "Pauli-X gate\n",
    "$X = \\begin{pmatrix}\n",
    "0 & 1 \\\\\n",
    "1 & 0\n",
    "\\end{pmatrix}\n",
    "$ \n",
    "\\\n",
    "\\\n",
    "Pauli-Y gate\n",
    "$Y = \\begin{pmatrix}\n",
    "0 & -i \\\\\n",
    "i & 0\n",
    "\\end{pmatrix}\n",
    "$ \n",
    "\\\n",
    "\\\n",
    "Pauli-Z gate\n",
    "$Z = \\begin{pmatrix}\n",
    "1 & 0 \\\\\n",
    "0 & -1\n",
    "\\end{pmatrix}\n",
    "$ \n",
    "\\\n",
    "\\\n",
    "S gate\n",
    "$S = \\begin{pmatrix}\n",
    "1 & 0 \\\\\n",
    "0 & i\n",
    "\\end{pmatrix}\n",
    "$ \n",
    "\\\n",
    "\\\n",
    "T gate\n",
    "$T = \\begin{pmatrix}\n",
    "1 & 0 \\\\\n",
    "0 & e^{i\\frac{\\pi}{4}}\n",
    "\\end{pmatrix}\n",
    "$\n",
    "\\\n",
    "\\\n",
    "We also have 2-qubit gates such as the CNOT (controlled-not), that either flips or not the state of one qubit in function of the direction of the spin of the control qubit.\n",
    "$$CNOT(\\left|0\\right\\rangle\\otimes\\left|0\\right\\rangle) = \\left|0\\right\\rangle \\otimes \\left|0\\right\\rangle $$\n",
    "$$CNOT(\\left|0\\right\\rangle\\otimes\\left|1\\right\\rangle) = \\left|0\\right\\rangle \\otimes \\left|1\\right\\rangle $$\n",
    "$$CNOT(\\left|1\\right\\rangle\\otimes\\left|0\\right\\rangle) = \\left|1\\right\\rangle \\otimes \\left|1\\right\\rangle $$\n",
    "$$CNOT(\\left|1\\right\\rangle\\otimes\\left|1\\right\\rangle) = \\left|1\\right\\rangle \\otimes \\left|0\\right\\rangle $$"
   ]
  },
  {
   "cell_type": "markdown",
   "metadata": {},
   "source": [
    "# General rotations\n",
    "\n",
    "By convention, the chronology of the circuit diagram is from left to right. Other different forms of spin rotation operators that rotate quantums states to an arbitrary $(\\theta, \\phi)$ can be expressed as a combination of the gates above.\n",
    "For the sake of generality, we introduce a general rotation gate, represented in the IBM Quantum Computer as $u_3$. The $u_3$ takes three parameters $(\\lambda,\\theta,\\phi)$ and has the form\n",
    "\n",
    "$ u_3=\n",
    "\\begin{pmatrix}\n",
    "\\cos{\\big(\\frac{\\theta}{2}\\big)} & -e^{i\\lambda}\\sin{\\big(\\frac{\\theta}{2}\\big)}\\\\\n",
    "e^{i\\phi}\\sin{\\big(\\frac{\\theta}{2}\\big)} & e^{i(\\lambda+\\phi)}\\sin{\\big(\\frac{\\theta}{2}\\big)}\n",
    "\\end{pmatrix}\n",
    "$\n"
   ]
  },
  {
   "cell_type": "markdown",
   "metadata": {},
   "source": [
    "# Measurement and basis\n",
    "\n",
    "A quantum computer works with the conventional basis of $\\{\\left|0\\right\\rangle, \\left|1\\right\\rangle\\}$. As discussed earlier, we can measure states in different (and arbitrary) basis. We can achieve this by rotating the arbitrary basis to the $Z$ basis $\\{\\left|0\\right\\rangle, \\left|1\\right\\rangle\\}$ and performing the usual measurement. "
   ]
  },
  {
   "cell_type": "markdown",
   "metadata": {},
   "source": [
    "# Performing the Bell Experiment on the IBM quantum computer\n",
    "\n",
    "Consider the general state\n",
    "$$\\left|\\psi(\\theta)\\right\\rangle = \\cos{\\big(\\frac{\\theta}{2}\\big)}\\left|0\\right\\rangle\\otimes\\left|0\\right\\rangle + \\sin{\\big(\\frac{\\theta}{2}\\big)}\\left|1\\right\\rangle\\otimes\\left|1\\right\\rangle$$\n",
    "Note that when $\\theta = 0$, this is state is unentangled (state $\\left|0\\right\\rangle\\otimes\\left|0\\right\\rangle$), whereas for any $\\theta > 0$, it is entangled and for $\\theta= \\pi/2$ reduces to $\\left|\\beta_{00}\\right\\rangle$."
   ]
  },
  {
   "cell_type": "markdown",
   "metadata": {},
   "source": [
    "1. Show that the state $\\cos{\\theta/2}\\left|0\\right\\rangle+\\sin{\\theta/2}\\left|1\\right\\rangle$ is created for an angle $\\theta$ using the gate $u_3(\\theta,0,0)$ with $\\left|0\\right\\rangle$ as input."
   ]
  },
  {
   "cell_type": "markdown",
   "metadata": {},
   "source": [
    "2. Using part (1) show that the following circuit prepares the state $\\left|\\psi(\\theta)\\right\\rangle = \\cos{\\big(\\frac{\\theta}{2}\\big)}\\left|0\\right\\rangle\\otimes\\left|0\\right\\rangle + \\sin{\\big(\\frac{\\theta}{2}\\big)}\\left|1\\right\\rangle\\otimes\\left|1\\right\\rangle$."
   ]
  },
  {
   "cell_type": "code",
   "execution_count": 3,
   "metadata": {},
   "outputs": [
    {
     "data": {
      "text/html": [
       "<pre style=\"word-wrap: normal;white-space: pre;background: #fff0;line-height: 1.1;font-family: &quot;Courier New&quot;,Courier,monospace\">     ┌───────────┐     \n",
       "q_0: ┤ U3(0,0,0) ├──■──\n",
       "     └───────────┘┌─┴─┐\n",
       "q_1: ─────────────┤ X ├\n",
       "                  └───┘\n",
       "c_0: ══════════════════\n",
       "                       \n",
       "c_1: ══════════════════\n",
       "                       </pre>"
      ],
      "text/plain": [
       "     ┌───────────┐     \n",
       "q_0: ┤ U3(0,0,0) ├──■──\n",
       "     └───────────┘┌─┴─┐\n",
       "q_1: ─────────────┤ X ├\n",
       "                  └───┘\n",
       "c_0: ══════════════════\n",
       "                       \n",
       "c_1: ══════════════════\n",
       "                       "
      ]
     },
     "execution_count": 3,
     "metadata": {},
     "output_type": "execute_result"
    }
   ],
   "source": [
    "from qiskit import QuantumCircuit\n",
    "circuit_2 = QuantumCircuit(2, 2)\n",
    "circuit_2.u3(0,0,0,0)\n",
    "circuit_2.cx(0, 1)\n",
    "circuit_2.draw()"
   ]
  },
  {
   "cell_type": "markdown",
   "metadata": {},
   "source": [
    "3. Show that measurement in the $X$ basis can be achieved by first applying a Hadamard gate $H$ and then measuring in the $Z$ basis."
   ]
  },
  {
   "cell_type": "markdown",
   "metadata": {},
   "source": [
    "4. Show that measurements in the $W=\\frac{1}{\\sqrt{2}}(X+Z)$ basis can be performed by applying the sequence $HTHS$ and then measuring in the $Z$ basis."
   ]
  },
  {
   "cell_type": "markdown",
   "metadata": {},
   "source": [
    "5. Show that the measurement in the $V=\\frac{1}{\\sqrt{2}}(Z-X)$ basis is achieved by applying \n",
    "$HT^{\\dagger}HS$ and a $Z$ measurement. "
   ]
  },
  {
   "cell_type": "markdown",
   "metadata": {},
   "source": [
    "# IBM Quantum Experience Circuit Composer\n",
    "Let's start by importing the standard Qiskit libraries and loading IBM Q account(s)."
   ]
  },
  {
   "cell_type": "code",
   "execution_count": 4,
   "metadata": {},
   "outputs": [],
   "source": [
    "%matplotlib inline\n",
    "from qiskit import execute, Aer, IBMQ\n",
    "from qiskit.compiler import transpile, assemble\n",
    "from qiskit.tools.jupyter import *\n",
    "from qiskit.visualization import *"
   ]
  },
  {
   "cell_type": "code",
   "execution_count": 5,
   "metadata": {},
   "outputs": [],
   "source": [
    "# Loading your IBM Q account(s)\n",
    "IBMQ.save_account(\"YOUR-API-TOKEN\", overwrite=True) # replace YOUR-API-TOKEN with _your_ token from your IBM quantum experience account\n",
    "IBMQ.load_account()\n",
    "provider = IBMQ.get_provider(hub='ibm-q-education', group='tcs-karamlou', project='summer-2020')"
   ]
  },
  {
   "cell_type": "markdown",
   "metadata": {},
   "source": [
    "# Bell states \n",
    "Recall that Bell states are the sets of maximally entangled states in the two-qubit space and form a complete basis.\n",
    "$$\\left|\\beta_{00}\\right\\rangle=\\frac{1}{\\sqrt{2}}(\\left|0\\right\\rangle\\left|0\\right\\rangle+\\left|1\\right\\rangle\\left|1\\right\\rangle)$$\n",
    "$$\\left|\\beta_{01}\\right\\rangle=\\frac{1}{\\sqrt{2}}(\\left|0\\right\\rangle\\left|1\\right\\rangle+\\left|1\\right\\rangle\\left|0\\right\\rangle)$$\n",
    "$$\\left|\\beta_{10}\\right\\rangle=\\frac{1}{\\sqrt{2}}(\\left|0\\right\\rangle\\left|0\\right\\rangle-\\left|1\\right\\rangle\\left|1\\right\\rangle)$$\n",
    "$$\\left|\\beta_{11}\\right\\rangle=\\frac{1}{\\sqrt{2}}(\\left|0\\right\\rangle\\left|1\\right\\rangle-\\left|0\\right\\rangle\\left|1\\right\\rangle)$$\n",
    "\n",
    "1. See below as an example how we create the circuit that creates the $\\left|\\beta_{00}\\right\\rangle$ state using a Hadamard gate on $q[0]$ and a CNOT with the control qubit on $q[0]$, and observe the ploted statistical properties to measure each two qubit state."
   ]
  },
  {
   "cell_type": "code",
   "execution_count": 6,
   "metadata": {},
   "outputs": [
    {
     "name": "stdout",
     "output_type": "stream",
     "text": [
      "\n",
      "Total count for 00 and 11 are: {'11': 490, '00': 510}\n"
     ]
    },
    {
     "data": {
      "text/html": [
       "<pre style=\"word-wrap: normal;white-space: pre;background: #fff0;line-height: 1.1;font-family: &quot;Courier New&quot;,Courier,monospace\">     ┌───┐     ┌─┐   \n",
       "q_0: ┤ H ├──■──┤M├───\n",
       "     └───┘┌─┴─┐└╥┘┌─┐\n",
       "q_1: ─────┤ X ├─╫─┤M├\n",
       "          └───┘ ║ └╥┘\n",
       "c_0: ═══════════╩══╬═\n",
       "                   ║ \n",
       "c_1: ══════════════╩═\n",
       "                     </pre>"
      ],
      "text/plain": [
       "     ┌───┐     ┌─┐   \n",
       "q_0: ┤ H ├──■──┤M├───\n",
       "     └───┘┌─┴─┐└╥┘┌─┐\n",
       "q_1: ─────┤ X ├─╫─┤M├\n",
       "          └───┘ ║ └╥┘\n",
       "c_0: ═══════════╩══╬═\n",
       "                   ║ \n",
       "c_1: ══════════════╩═\n",
       "                     "
      ]
     },
     "execution_count": 6,
     "metadata": {},
     "output_type": "execute_result"
    }
   ],
   "source": [
    "# Create a new Quantum Circuit\n",
    "circuit = QuantumCircuit(2, 2)\n",
    "# Add an H gate on qubit 0\n",
    "circuit.h(0)\n",
    "# Add a CX (CNOT) gate on control qubit 0 and target qubit 1\n",
    "circuit.cx(0, 1)\n",
    "# Map the quantum measurement to the classical bits\n",
    "circuit.measure([0,1], [0,1])\n",
    "\n",
    "# Execute\n",
    "# Use Aer's qasm_simulator\n",
    "simulator = Aer.get_backend('qasm_simulator')\n",
    "# Execute the circuit on the qasm simulator\n",
    "job = execute(circuit, simulator, shots=1000)\n",
    "# Grab results from the job\n",
    "result = job.result()\n",
    "\n",
    "# Return counts\n",
    "counts = result.get_counts(circuit)\n",
    "print(\"\\nTotal count for 00 and 11 are:\",counts)\n",
    "\n",
    "# Draw the circuit\n",
    "circuit.draw()"
   ]
  },
  {
   "cell_type": "code",
   "execution_count": 7,
   "metadata": {},
   "outputs": [
    {
     "data": {
      "image/png": "[encoded data removed]",
      "text/plain": [
       "<Figure size 504x360 with 1 Axes>"
      ]
     },
     "execution_count": 7,
     "metadata": {},
     "output_type": "execute_result"
    }
   ],
   "source": [
    "# Plot a histogram\n",
    "plot_histogram(counts)"
   ]
  },
  {
   "cell_type": "markdown",
   "metadata": {},
   "source": [
    "$\\textbf{Exercises}$\n",
    "2. Adapt the circuit from part (1) to produce the other three Bell states: $\\left|\\beta_{01}\\right\\rangle$, $\\left|\\beta_{10}\\right\\rangle$, $\\left|\\beta_{11}\\right\\rangle$ and plot their probability distributions in a separate histogram."
   ]
  },
  {
   "cell_type": "markdown",
   "metadata": {},
   "source": [
    "$$\\left|\\beta_{01}\\right\\rangle=\\frac{1}{\\sqrt{2}}(\\left|0\\right\\rangle\\left|1\\right\\rangle+\\left|1\\right\\rangle\\left|0\\right\\rangle)$$"
   ]
  },
  {
   "cell_type": "code",
   "execution_count": 6,
   "metadata": {},
   "outputs": [],
   "source": [
    "# # Create a new circuit\n",
    "# circuit = QuantumCircuit(2, 2)\n",
    "# # Add quantum gates\n",
    "# circuit.h(0)\n",
    "# circuit.cx(0, 1)\n",
    "# # Map the quantum measurement to the classical bits\n",
    "# circuit.measure([0,1], [0,1])\n",
    "\n",
    "# # Execute\n",
    "# simulator = Aer.get_backend('qasm_simulator')\n",
    "# job = execute(circuit, simulator, shots=1000)\n",
    "# result = job.result()\n",
    "\n",
    "# # Return counts\n",
    "# counts = result.get_counts(circuit)\n",
    "# print(\"\\nTotal count for 00 and 11 are:\",counts)\n",
    "\n",
    "# # Draw the circuit\n",
    "# circuit.draw()"
   ]
  },
  {
   "cell_type": "markdown",
   "metadata": {},
   "source": [
    "$$\\left|\\beta_{10}\\right\\rangle=\\frac{1}{\\sqrt{2}}(\\left|0\\right\\rangle\\left|0\\right\\rangle-\\left|1\\right\\rangle\\left|1\\right\\rangle)$$"
   ]
  },
  {
   "cell_type": "code",
   "execution_count": 7,
   "metadata": {},
   "outputs": [],
   "source": [
    "# # Create a new circuit\n",
    "# circuit = QuantumCircuit(2, 2)\n",
    "# # Add quantum gates\n",
    "# circuit.h(0)\n",
    "# circuit.cx(0, 1)\n",
    "# # Map the quantum measurement to the classical bits\n",
    "# circuit.measure([0,1], [0,1])\n",
    "\n",
    "# # Execute\n",
    "# simulator = Aer.get_backend('qasm_simulator')\n",
    "# job = execute(circuit, simulator, shots=1000)\n",
    "# result = job.result()\n",
    "\n",
    "# # Return counts\n",
    "# counts = result.get_counts(circuit)\n",
    "# print(\"\\nTotal count for 00 and 11 are:\",counts)\n",
    "\n",
    "# # Draw the circuit\n",
    "# circuit.draw()"
   ]
  },
  {
   "cell_type": "markdown",
   "metadata": {},
   "source": [
    "$$\\left|\\beta_{11}\\right\\rangle=\\frac{1}{\\sqrt{2}}(\\left|0\\right\\rangle\\left|1\\right\\rangle-\\left|1\\right\\rangle\\left|0\\right\\rangle)$$"
   ]
  },
  {
   "cell_type": "code",
   "execution_count": 8,
   "metadata": {},
   "outputs": [],
   "source": [
    "# # Create a new circuit\n",
    "# circuit = QuantumCircuit(2, 2)\n",
    "# # Add quantum gates\n",
    "# circuit.h(0)\n",
    "# circuit.cx(0, 1)\n",
    "# # Map the quantum measurement to the classical bits\n",
    "# circuit.measure([0,1], [0,1])\n",
    "\n",
    "# # Execute\n",
    "# simulator = Aer.get_backend('qasm_simulator')\n",
    "# job = execute(circuit, simulator, shots=1000)\n",
    "# result = job.result()\n",
    "\n",
    "# # Return counts\n",
    "# counts = result.get_counts(circuit)\n",
    "# print(\"\\nTotal count for 00 and 11 are:\",counts)\n",
    "\n",
    "# # Draw the circuit\n",
    "# circuit.draw()"
   ]
  },
  {
   "cell_type": "markdown",
   "metadata": {},
   "source": [
    "\n",
    "# Simulation\n",
    "Log in the IBM Q Experience and draw a circuit using the following code or the $\\textit{IBM Circuit Composer}$ for preparing the state $\\left|\\psi(\\theta)\\right\\rangle$ for $\\theta = 0, \\frac{\\pi}{6}, \\frac{\\pi}{4}, \\frac{\\pi}{2}$ and performing the measurement in the $X$, $Z$, $W$ and $V$ basis. \\\n",
    "Estimate $\\langle Z\\otimes W \\rangle$, $\\langle Z\\otimes V \\rangle$, $\\langle X\\otimes V \\rangle$ and $\\langle X\\otimes W \\rangle$ for each $\\theta$. \\\n",
    "Calculate $C = \\langle Z\\otimes W \\rangle + \\langle Z\\otimes V \\rangle + \\langle X\\otimes W \\rangle - \\langle X\\otimes V \\rangle$ for each $\\theta$ and report your results in a Table. \n",
    "\\\n",
    "$\\textbf{Hint:}$ Here is the circuit diagram for measuring $\\left|\\psi(\\theta/6)\\right\\rangle$ in the $X\\otimes V$ basis."
   ]
  },
  {
   "cell_type": "markdown",
   "metadata": {},
   "source": [
    "The operators $X$, $Z$, $V$ and $W$ all have $\\pm$ eigenvalues. The $0$ and $1$ correspond to the $+1$ and $-1$ eigenvalues respectively. The probability is written as $P(q[0],q[1])$.\n",
    "\n",
    "| $\\theta=$ | P(+1,+1) | P(-1,-1) | P(+1,-1) | P(-1,+1) | Expectation |\n",
    "| ----------- | ----- | ----- | ----- | ----- | ----- |\n",
    "| $ Z\\otimes W $ |  |  |  |  |  |\n",
    "| $ Z\\otimes V $ |  |  |  |  |  |\n",
    "| $ X\\otimes W $ |  |  |  |  |  |\n",
    "| $ X\\otimes V $ |  |  |  |  |  |"
   ]
  },
  {
   "cell_type": "code",
   "execution_count": 9,
   "metadata": {},
   "outputs": [
    {
     "name": "stdout",
     "output_type": "stream",
     "text": [
      "\n",
      "Total count for 00 and 11 are: {'000': 423, '001': 90, '010': 408, '011': 79}\n"
     ]
    },
    {
     "data": {
      "text/html": [
       "<pre style=\"word-wrap: normal;white-space: pre;background: #fff0;line-height: 1.1;font-family: &quot;Courier New&quot;,Courier,monospace\">     ┌───────────┐     ┌───┐     ┌─┐               \n",
       "q_0: ┤ U3(0,0,0) ├──■──┤ H ├─────┤M├───────────────\n",
       "     └───────────┘┌─┴─┐├───┤┌───┐└╥┘┌─────┐┌───┐┌─┐\n",
       "q_1: ─────────────┤ X ├┤ S ├┤ H ├─╫─┤ TDG ├┤ H ├┤M├\n",
       "                  └───┘└───┘└───┘ ║ └─────┘└───┘└╥┘\n",
       "q_2: ─────────────────────────────╫──────────────╫─\n",
       "                                  ║              ║ \n",
       "c_0: ═════════════════════════════╬══════════════╩═\n",
       "                                  ║                \n",
       "c_1: ═════════════════════════════╩════════════════\n",
       "                                                   \n",
       "c_2: ══════════════════════════════════════════════\n",
       "                                                   </pre>"
      ],
      "text/plain": [
       "     ┌───────────┐     ┌───┐     ┌─┐               \n",
       "q_0: ┤ U3(0,0,0) ├──■──┤ H ├─────┤M├───────────────\n",
       "     └───────────┘┌─┴─┐├───┤┌───┐└╥┘┌─────┐┌───┐┌─┐\n",
       "q_1: ─────────────┤ X ├┤ S ├┤ H ├─╫─┤ TDG ├┤ H ├┤M├\n",
       "                  └───┘└───┘└───┘ ║ └─────┘└───┘└╥┘\n",
       "q_2: ─────────────────────────────╫──────────────╫─\n",
       "                                  ║              ║ \n",
       "c_0: ═════════════════════════════╬══════════════╩═\n",
       "                                  ║                \n",
       "c_1: ═════════════════════════════╩════════════════\n",
       "                                                   \n",
       "c_2: ══════════════════════════════════════════════\n",
       "                                                   "
      ]
     },
     "execution_count": 9,
     "metadata": {},
     "output_type": "execute_result"
    }
   ],
   "source": [
    "circuit_sim = QuantumCircuit(3, 3)\n",
    "circuit_sim.u3(0,0,0,0)\n",
    "circuit_sim.cx(0, 1)\n",
    "circuit_sim.h(0)\n",
    "circuit_sim.s(1)\n",
    "circuit_sim.h(1)\n",
    "circuit_sim.tdg(1)\n",
    "circuit_sim.h(1)\n",
    "\n",
    "circuit_sim.measure([1,0], [0,1])\n",
    "\n",
    "simulator = Aer.get_backend('qasm_simulator')\n",
    "job = execute(circuit_sim, simulator, shots=1000)\n",
    "result = job.result()\n",
    "\n",
    "counts_sim = result.get_counts(circuit_sim)\n",
    "print(\"\\nTotal count for 00 and 11 are:\",counts_sim)\n",
    "\n",
    "circuit_sim.draw()"
   ]
  },
  {
   "cell_type": "code",
   "execution_count": 10,
   "metadata": {},
   "outputs": [
    {
     "data": {
      "image/png": "[encoded data removed]",
      "text/plain": [
       "<Figure size 504x360 with 1 Axes>"
      ]
     },
     "execution_count": 10,
     "metadata": {},
     "output_type": "execute_result"
    }
   ],
   "source": [
    "plot_histogram(counts_sim)"
   ]
  },
  {
   "cell_type": "markdown",
   "metadata": {},
   "source": [
    "# Actual Computation\n",
    "In this part we run a previous measurement of your choice in the previous section on an actual quantum computer."
   ]
  },
  {
   "cell_type": "code",
   "execution_count": 11,
   "metadata": {},
   "outputs": [],
   "source": [
    "# Use the backend that is least busy to get access to the machine faster\n",
    "from qiskit.providers.ibmq import least_busy\n",
    "# For example:\n",
    "my_backend = least_busy(provider.backends())\n",
    "print(my_backend)"
   ]
  },
  {
   "cell_type": "code",
   "execution_count": 15,
   "metadata": {},
   "outputs": [],
   "source": [
    "# Now we can use actual hardware wherever we would have called used a simulator backend before:\n",
    "\n",
    "# circuit = QuantumCircuit(2, 2)\n",
    "# circuit.h(0)\n",
    "# circuit.cx(0, 1)\n",
    "# # Execute\n",
    "# hardware = least_busy(provider.backends())\n",
    "# job = execute(circuit, hardware, shots=1000)\n",
    "# result = job.result()"
   ]
  },
  {
   "cell_type": "code",
   "execution_count": 17,
   "metadata": {},
   "outputs": [
    {
     "name": "stdout",
     "output_type": "stream",
     "text": [
      "Result(backend_name='ibmq_rome', backend_version='1.1.0', date=datetime.datetime(2020, 7, 15, 2, 24, 50, tzinfo=datetime.timezone.utc), execution_id='583c2920-c642-11ea-aea4-b02628ea1e00', header=Obj(backend_name='ibmq_rome', backend_version='1.1.0'), job_id='5f0e67f18d375c0019d66967', qobj_id='6f8bd786-1efc-43f8-9945-d57166a7bbe7', results=[ExperimentResult(data=ExperimentResultData(counts=Obj(0x0=1000)), header=Obj(clbit_labels=[['c', 0], ['c', 1]], creg_sizes=[['c', 2]], memory_slots=2, n_qubits=5, name='circuit15', qreg_sizes=[['q', 5]], qubit_labels=[['q', 0], ['q', 1], ['q', 2], ['q', 3], ['q', 4]]), meas_level=2, memory=False, shots=1000, success=True)], status='Successful completion', success=True, time_taken=8.27116847038269)\n"
     ]
    }
   ],
   "source": [
    "print(result)"
   ]
  },
  {
   "cell_type": "code",
   "execution_count": null,
   "metadata": {},
   "outputs": [],
   "source": []
  }
 ],
 "metadata": {
  "kernelspec": {
   "display_name": "Python 3",
   "language": "python",
   "name": "python3"
  },
  "language_info": {
   "codemirror_mode": {
    "name": "ipython",
    "version": 3
   },
   "file_extension": ".py",
   "mimetype": "text/x-python",
   "name": "python",
   "nbconvert_exporter": "python",
   "pygments_lexer": "ipython3",
   "version": "3.6.9"
  }
 },
 "nbformat": 4,
 "nbformat_minor": 4
}
