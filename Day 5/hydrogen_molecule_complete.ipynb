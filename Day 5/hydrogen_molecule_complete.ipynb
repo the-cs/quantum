{
 "cells": [
  {
   "cell_type": "markdown",
   "metadata": {},
   "source": [
    "# Hydrogen Molecule Simulation"
   ]
  },
  {
   "cell_type": "code",
   "execution_count": 9,
   "metadata": {},
   "outputs": [],
   "source": [
    "import numpy as np\n",
    "import matplotlib.pyplot as plt\n",
    "from tqdm import tqdm_notebook as tqdm\n",
    "from qiskit.providers.ibmq import least_busy\n",
    "\n",
    "from qiskit.aqua import QuantumInstance\n",
    "from qiskit.aqua.algorithms import ExactEigensolver, VQE\n",
    "from qiskit.aqua.components.variational_forms import RYRZ\n",
    "from qiskit.aqua.components.optimizers import SPSA, COBYLA\n",
    "from qiskit.providers.aer.noise import NoiseModel\n",
    "from qiskit import IBMQ, Aer\n",
    "\n",
    "from time import time\n",
    "\n",
    "from H2_helpers import *"
   ]
  },
  {
   "cell_type": "markdown",
   "metadata": {},
   "source": [
    "## Exact Theoretical Approach"
   ]
  },
  {
   "cell_type": "markdown",
   "metadata": {},
   "source": [
    "Here we find the exact bond energy of the H2 molecule at the bond length of 0.735 Angstroms or 7.35x10$^{-2}$ nm, where the molecule is most stable."
   ]
  },
  {
   "cell_type": "code",
   "execution_count": 16,
   "metadata": {},
   "outputs": [
    {
     "name": "stdout",
     "output_type": "stream",
     "text": [
      "========= Ground State Energy =========\n",
      "Total Energy (Hartree): -1.1373060358\n",
      "Electronic Energy (Hartree): -1.8572750270\n",
      "Nuclear Repulsion Energy (Hartree): 0.7199689913\n"
     ]
    }
   ],
   "source": [
    "bond_length= 0.735\n",
    "qubit_op, operator= get_H2_Hamiltonian(bond_length)\n",
    "result = NumPyMinimumEigensolver(qubit_op).run()\n",
    "exact_result = operator.process_algorithm_result(result)\n",
    "\n",
    "print('========= Ground State Energy =========')\n",
    "print('Total Energy (Hartree): {:.10f}'.format(exact_result.energy))\n",
    "print('Electronic Energy (Hartree): {:.10f}'.format(exact_result.electronic_energy))\n",
    "print('Nuclear Repulsion Energy (Hartree): {:.10f}'.format(exact_result.nuclear_repulsion_energy))"
   ]
  },
  {
   "cell_type": "markdown",
   "metadata": {},
   "source": [
    "Now lets find the bond energy of the H2 molecule at different bond lengths. Plot the total energy vs. bond length. Also compare how the electronic energy changes with how the nuclear repulsion energy changes with bond length"
   ]
  },
  {
   "cell_type": "code",
   "execution_count": 4,
   "metadata": {},
   "outputs": [
    {
     "data": {
      "application/vnd.jupyter.widget-view+json": {
       "model_id": "9136cf2e5d5143c19e39d320de7ca909",
       "version_major": 2,
       "version_minor": 0
      },
      "text/plain": [
       "HBox(children=(FloatProgress(value=0.0, max=40.0), HTML(value='')))"
      ]
     },
     "metadata": {},
     "output_type": "display_data"
    },
    {
     "name": "stdout",
     "output_type": "stream",
     "text": [
      "\n"
     ]
    },
    {
     "data": {
      "image/png": "[encoded data removed]",
      "text/plain": [
       "<Figure size 432x288 with 1 Axes>"
      ]
     },
     "metadata": {
      "needs_background": "light"
     },
     "output_type": "display_data"
    },
    {
     "data": {
      "image/png": "[encoded data removed]",
      "text/plain": [
       "<Figure size 432x288 with 1 Axes>"
      ]
     },
     "metadata": {
      "needs_background": "light"
     },
     "output_type": "display_data"
    }
   ],
   "source": [
    "bond_lengths= sorted(list(np.arange(0.2, 4.1, 0.1))+[0.735])\n",
    "theory_energies=[]\n",
    "theory_electronic_energies=[]\n",
    "theory_nuclear_repulsion=[]\n",
    "\n",
    "for a in tqdm(bond_lengths):\n",
    "    qubit_op, operator= get_H2_Hamiltonian(a)\n",
    "    result = NumPyMinimumEigensolver(qubit_op).run()\n",
    "    result = operator.process_algorithm_result(result)\n",
    "    theory_energies.append(result.energy)\n",
    "    theory_electronic_energies.append(result.electronic_energy)\n",
    "    theory_nuclear_repulsion.append(result.nuclear_repulsion_energy)\n",
    "\n",
    "plt.plot(bond_lengths, theory_energies)\n",
    "plt.ylabel('Energy (Hartree)')\n",
    "plt.xlabel('Bond Length (angstrom)')\n",
    "plt.show()\n",
    "\n",
    "plt.plot(bond_lengths, theory_electronic_energies)\n",
    "plt.plot(bond_lengths, theory_nuclear_repulsion)\n",
    "\n",
    "plt.ylabel('Energy (Hartree)')\n",
    "plt.xlabel('Bond Length (angstrom)')\n",
    "plt.show()"
   ]
  },
  {
   "cell_type": "markdown",
   "metadata": {},
   "source": [
    "## Variational Quantum Eigensolver (VQE) approach"
   ]
  },
  {
   "cell_type": "markdown",
   "metadata": {},
   "source": [
    "Let's use a hybrid quantum-classical algorithm to find the bond energy of H2."
   ]
  },
  {
   "cell_type": "markdown",
   "metadata": {},
   "source": [
    "### Noiseless"
   ]
  },
  {
   "cell_type": "markdown",
   "metadata": {},
   "source": [
    "Here, we use a variational quantum algorithm to find the energy of the H2 molecule at it's most stable bond length (0.735 A) using a noiseless quantum simulator.\n",
    "\n",
    "We start by using an RYRZ variational circuit: https://qiskit.org/documentation/stubs/qiskit.aqua.components.variational_forms.RYRZ.html\n",
    "with depth 5.\n",
    "\n",
    "We optimize our quantum circuit using a Simultaneous Perturbation Stochastic Approximation (SPSA) optimizer: https://qiskit.org/documentation/stubs/qiskit.aqua.components.optimizers.SPSA.html"
   ]
  },
  {
   "cell_type": "code",
   "execution_count": 4,
   "metadata": {},
   "outputs": [
    {
     "name": "stdout",
     "output_type": "stream",
     "text": [
      "========= Ground State Energy =========\n",
      "Total Energy (Hartree): -1.1373038348\n",
      "Electronic Energy (Hartree): -1.8572728260\n",
      "Nuclear Repulsion Energy (Hartree): 0.7199689913\n",
      "36.69575357437134\n"
     ]
    }
   ],
   "source": [
    "bond_length= 0.735\n",
    "qubit_op, operator= get_H2_Hamiltonian(bond_length)\n",
    "t0=time()\n",
    "var_form = RYRZ(qubit_op.num_qubits, depth=5, entanglement='full')\n",
    "optimizer = SPSA()\n",
    "simulator = Aer.get_backend('qasm_simulator')\n",
    "algo = VQE(qubit_op, var_form, optimizer)\n",
    "result = algo.run(QuantumInstance(simulator))\n",
    "\n",
    "result = operator.process_algorithm_result(result)\n",
    "print('========= Ground State Energy =========')\n",
    "print('Total Energy (Hartree): {:.10f}'.format(result.energy))\n",
    "print('Electronic Energy (Hartree): {:.10f}'.format(result.electronic_energy))\n",
    "print('Nuclear Repulsion Energy (Hartree): {:.10f}'.format(result.nuclear_repulsion_energy))\n",
    "print(time()-t0)"
   ]
  },
  {
   "cell_type": "markdown",
   "metadata": {},
   "source": [
    "Now let's explore what happens if we vary the variational circuit depth. Plot the output energy of VQE algorithm vs. circuit depth. Can you explain your observation? "
   ]
  },
  {
   "cell_type": "code",
   "execution_count": 7,
   "metadata": {},
   "outputs": [
    {
     "data": {
      "application/vnd.jupyter.widget-view+json": {
       "model_id": "733f3add2511470db6fd039bd00452b6",
       "version_major": 2,
       "version_minor": 0
      },
      "text/plain": [
       "HBox(children=(FloatProgress(value=0.0, max=10.0), HTML(value='')))"
      ]
     },
     "metadata": {},
     "output_type": "display_data"
    },
    {
     "name": "stdout",
     "output_type": "stream",
     "text": [
      "\n"
     ]
    },
    {
     "data": {
      "image/png": "[encoded data removed]",
      "text/plain": [
       "<Figure size 432x288 with 1 Axes>"
      ]
     },
     "metadata": {
      "needs_background": "light"
     },
     "output_type": "display_data"
    }
   ],
   "source": [
    "circuit_depths=np.linspace(1,10,10)\n",
    "\n",
    "depth_energy=[]\n",
    "\n",
    "for depth in tqdm(circuit_depths):\n",
    "    var_form = RYRZ(qubit_op.num_qubits, depth=int(depth), entanglement='full')\n",
    "    optimizer = SPSA()\n",
    "    simulator = Aer.get_backend('qasm_simulator')\n",
    "    algo = VQE(qubit_op, var_form, optimizer)\n",
    "    result = algo.run(QuantumInstance(simulator))\n",
    "    result = operator.process_algorithm_result(result)\n",
    "    depth_energy.append(result.energy)\n",
    "    \n",
    "plt.plot(circuit_depths, depth_energy)\n",
    "plt.ylabel('Energy (Hartree)')\n",
    "plt.xlabel('ansatz_depth')\n",
    "plt.show()"
   ]
  },
  {
   "cell_type": "markdown",
   "metadata": {},
   "source": [
    "Next, find the energy of the H2 molecule for a few different bond lengths using VQE and plot them against the exact solutions computed earlier."
   ]
  },
  {
   "cell_type": "code",
   "execution_count": 8,
   "metadata": {},
   "outputs": [
    {
     "data": {
      "application/vnd.jupyter.widget-view+json": {
       "model_id": "34353d31d1fb4efda31218e5204aa169",
       "version_major": 2,
       "version_minor": 0
      },
      "text/plain": [
       "HBox(children=(FloatProgress(value=0.0, max=20.0), HTML(value='')))"
      ]
     },
     "metadata": {},
     "output_type": "display_data"
    },
    {
     "name": "stdout",
     "output_type": "stream",
     "text": [
      "\n"
     ]
    }
   ],
   "source": [
    "ideal_vqe_energies= []\n",
    "vqe_bond_lengths= bond_lengths[::2]\n",
    "depth=3 #Change\n",
    "\n",
    "for a in tqdm(vqe_bond_lengths):\n",
    "    qubit_op, operator= get_H2_Hamiltonian(a)\n",
    "    var_form = RYRZ(qubit_op.num_qubits, depth=depth, entanglement='full')\n",
    "    optimizer = SPSA()\n",
    "    simulator = Aer.get_backend('qasm_simulator')\n",
    "    algo = VQE(qubit_op, var_form, optimizer)\n",
    "    result = algo.run(QuantumInstance(simulator))\n",
    "    result = operator.process_algorithm_result(result)\n",
    "    ideal_vqe_energies.append(result.energy)"
   ]
  },
  {
   "cell_type": "code",
   "execution_count": 71,
   "metadata": {},
   "outputs": [
    {
     "data": {
      "image/png": "[encoded data removed]",
      "text/plain": [
       "<Figure size 432x288 with 1 Axes>"
      ]
     },
     "metadata": {
      "needs_background": "light"
     },
     "output_type": "display_data"
    }
   ],
   "source": [
    "plt.plot(bond_lengths, theory_energies)\n",
    "plt.plot(bond_lengths[::2], ideal_vqe_energies,'o')\n",
    "plt.ylabel('Energy (Hartree)')\n",
    "plt.xlabel('Bond Length (angstrom)')\n",
    "plt.show()"
   ]
  },
  {
   "cell_type": "markdown",
   "metadata": {},
   "source": [
    "### Noisy simulation"
   ]
  },
  {
   "cell_type": "markdown",
   "metadata": {},
   "source": [
    "The quantum computers that we have access to today are noisy systems, and the noise could change the output of our quantum algorithm. In this section we will add a noise component to our quantum simulation. You can find more information about different noise models here: https://qiskit.org/documentation/apidoc/aer_noise.html"
   ]
  },
  {
   "cell_type": "code",
   "execution_count": 13,
   "metadata": {},
   "outputs": [
    {
     "name": "stderr",
     "output_type": "stream",
     "text": [
      "ibmqfactory.load_account:WARNING:2020-07-17 14:52:45,969: Credentials are already in use. The existing account in the session will be replaced.\n"
     ]
    },
    {
     "name": "stdout",
     "output_type": "stream",
     "text": [
      "ibmq_valencia\n"
     ]
    }
   ],
   "source": [
    "IBMQ.load_account()\n",
    "provider = IBMQ.get_provider(hub='ibm-q-education', group='tcs-karamlou', project='summer-2020')\n",
    "backend = least_busy(provider.backends())\n",
    "print(backend)\n",
    "noise_model = NoiseModel.from_backend(backend)"
   ]
  },
  {
   "cell_type": "code",
   "execution_count": 15,
   "metadata": {},
   "outputs": [
    {
     "name": "stdout",
     "output_type": "stream",
     "text": [
      "========= Ground State Energy =========\n",
      "Total Energy (Hartree): -1.1373046014\n",
      "Electronic Energy (Hartree): -1.8572735927\n",
      "Nuclear Repulsion Energy (Hartree): 0.7199689913\n"
     ]
    }
   ],
   "source": [
    "bond_length= 0.735\n",
    "qubit_op, operator= get_H2_Hamiltonian(bond_length)\n",
    "\n",
    "var_form = RYRZ(qubit_op.num_qubits, depth=3, entanglement='full')\n",
    "optimizer = SPSA()\n",
    "simulator = Aer.get_backend('qasm_simulator')\n",
    "algo = VQE(qubit_op, var_form, optimizer)\n",
    "result = algo.run(QuantumInstance(simulator), NoiseModel=noise_model) # We add the noise model here\n",
    "\n",
    "result = operator.process_algorithm_result(result)\n",
    "print('========= Ground State Energy =========')\n",
    "print('Total Energy (Hartree): {:.10f}'.format(result.energy))\n",
    "print('Electronic Energy (Hartree): {:.10f}'.format(result.electronic_energy))\n",
    "print('Nuclear Repulsion Energy (Hartree): {:.10f}'.format(result.nuclear_repulsion_energy))"
   ]
  },
  {
   "cell_type": "markdown",
   "metadata": {},
   "source": [
    "Now check how the quantum algorithm performance changes by varying the depth. Plot the calculated energy values when varying the algorithm depth and choose the best depth. Note that we need the energy to be accurate to 0.001 Hartree for a successful simulation. "
   ]
  },
  {
   "cell_type": "code",
   "execution_count": 18,
   "metadata": {},
   "outputs": [
    {
     "data": {
      "application/vnd.jupyter.widget-view+json": {
       "model_id": "4498566fc3264f789cf91ad29c6831c7",
       "version_major": 2,
       "version_minor": 0
      },
      "text/plain": [
       "HBox(children=(FloatProgress(value=0.0, max=5.0), HTML(value='')))"
      ]
     },
     "metadata": {},
     "output_type": "display_data"
    },
    {
     "name": "stdout",
     "output_type": "stream",
     "text": [
      "\n"
     ]
    },
    {
     "data": {
      "image/png": "[encoded data removed]",
      "text/plain": [
       "<Figure size 432x288 with 1 Axes>"
      ]
     },
     "metadata": {
      "needs_background": "light"
     },
     "output_type": "display_data"
    }
   ],
   "source": [
    "depths=np.linspace(2,10,5)\n",
    "\n",
    "depth_energy=[]\n",
    "\n",
    "for depth in tqdm(depths):\n",
    "    var_form = RYRZ(qubit_op.num_qubits, depth=int(depth), entanglement='full')\n",
    "    optimizer = SPSA()\n",
    "    simulator = Aer.get_backend('qasm_simulator')\n",
    "    algo = VQE(qubit_op, var_form, optimizer)\n",
    "    result = algo.run(QuantumInstance(simulator), NoiseModel=noise_model)\n",
    "    result = operator.process_algorithm_result(result)\n",
    "    depth_energy.append(result.energy)\n",
    "\n",
    "plt.plot(depths, depth_energy)\n",
    "plt.fill_between(depths, exact_result.energy-0.001, exact_result.energy+0.001, color='green')\n",
    "plt.ylabel('Energy (Hartree)')\n",
    "plt.xlabel('Circuit depth')\n",
    "plt.show()"
   ]
  },
  {
   "cell_type": "markdown",
   "metadata": {},
   "source": [
    "Next, find the energy of the H2 molecule for a few different bond lengths using VQE with a noise model of a real quantum hardware and plot them against the exact solutions computed earlier."
   ]
  },
  {
   "cell_type": "code",
   "execution_count": 75,
   "metadata": {},
   "outputs": [
    {
     "data": {
      "application/vnd.jupyter.widget-view+json": {
       "model_id": "83790a3d7b9443d4a2fd9890f4278771",
       "version_major": 2,
       "version_minor": 0
      },
      "text/plain": [
       "HBox(children=(FloatProgress(value=0.0, max=12.0), HTML(value='')))"
      ]
     },
     "metadata": {},
     "output_type": "display_data"
    },
    {
     "name": "stdout",
     "output_type": "stream",
     "text": [
      "\n"
     ]
    },
    {
     "data": {
      "image/png": "[encoded data removed]",
      "text/plain": [
       "<Figure size 432x288 with 1 Axes>"
      ]
     },
     "metadata": {
      "needs_background": "light"
     },
     "output_type": "display_data"
    }
   ],
   "source": [
    "noisy_vqe_energies= []\n",
    "noisy_vqe_bond_lengths= vqe_bond_lengths[:12]\n",
    "depth=1 #Change\n",
    "\n",
    "for a in tqdm(noisy_vqe_bond_lengths):\n",
    "    qubit_op, operator= get_H2_Hamiltonian(a)\n",
    "    var_form = RYRZ(qubit_op.num_qubits, depth=depth, entanglement='full')\n",
    "    optimizer = SPSA()\n",
    "    simulator = Aer.get_backend('qasm_simulator')\n",
    "    algo = VQE(qubit_op, var_form, optimizer)\n",
    "    result = algo.run(QuantumInstance(simulator), NoiseModel=noise_model)\n",
    "    result = operator.process_algorithm_result(result)\n",
    "    noisy_vqe_energies.append(result.energy)\n",
    "    \n",
    "plt.plot(bond_lengths, theory_energies)\n",
    "plt.plot(noisy_vqe_bond_lengths, noisy_vqe_energies,'o')\n",
    "plt.ylabel('Energy (Hartree)')\n",
    "plt.xlabel('Bond Length (angstrom)')\n",
    "plt.show()"
   ]
  },
  {
   "cell_type": "markdown",
   "metadata": {},
   "source": [
    "### Quantum device"
   ]
  },
  {
   "cell_type": "code",
   "execution_count": 90,
   "metadata": {},
   "outputs": [
    {
     "name": "stderr",
     "output_type": "stream",
     "text": [
      "ibmqfactory.load_account:WARNING:2020-06-12 17:31:09,214: Credentials are already in use. The existing account in the session will be replaced.\n"
     ]
    }
   ],
   "source": [
    "provider = IBMQ.load_account()\n",
    "backend = least_busy(provider.backends())\n",
    "print(backend)\n",
    "noise_model = NoiseModel.from_backend(backend)"
   ]
  },
  {
   "cell_type": "markdown",
   "metadata": {},
   "source": [
    "First, let's train our circuit using a simulator"
   ]
  },
  {
   "cell_type": "code",
   "execution_count": 102,
   "metadata": {},
   "outputs": [
    {
     "data": {
      "text/plain": [
       "{'optimal_parameters': {Parameter(θ[0]): -0.9426989980600082, Parameter(θ[1]): -3.141449745527221, Parameter(θ[2]): -2.920512083821462, Parameter(θ[3]): 1.637838159404548, Parameter(θ[4]): -2.2289495900375025, Parameter(θ[5]): -1.6227082869210443, Parameter(θ[6]): 3.1501421652232624, Parameter(θ[7]): 0.03442803881707625}, 'optimal_point': array([-0.942699  , -3.14144975, -2.92051208,  1.63783816, -2.22894959,\n",
       "       -1.62270829,  3.15014217,  0.03442804]), 'optimal_value': -1.85311958725201, 'optimizer_time': 8.143986225128174, 'eigenvalue': (-1.85311958725201+0j), 'eigenstate': {'01': 1004, '11': 6, '10': 14}, 'cost_function_evals': 2051}"
      ]
     },
     "execution_count": 102,
     "metadata": {},
     "output_type": "execute_result"
    }
   ],
   "source": [
    "depth=1 #Change\n",
    "\n",
    "bond_length= 0.735\n",
    "qubit_op, operator= get_H2_Hamiltonian(bond_length)\n",
    "\n",
    "var_form = RYRZ(qubit_op.num_qubits, depth=depth, entanglement='full')\n",
    "optimizer = SPSA()\n",
    "simulator = Aer.get_backend('qasm_simulator')\n",
    "algo = VQE(qubit_op, var_form, optimizer)\n",
    "simulation_result = algo.run(QuantumInstance(simulator), NoiseModel=noise_model)"
   ]
  },
  {
   "cell_type": "markdown",
   "metadata": {},
   "source": [
    "Now, let's run the optimal circuit on an actual quantum computer!"
   ]
  },
  {
   "cell_type": "code",
   "execution_count": 108,
   "metadata": {},
   "outputs": [
    {
     "name": "stderr",
     "output_type": "stream",
     "text": [
      "The skip Qobj validation does not work for IBMQ provider. Disable it.\n"
     ]
    },
    {
     "name": "stdout",
     "output_type": "stream",
     "text": [
      "========= Ground State Energy =========\n",
      "Total Energy (Hartree): -1.0641853726\n",
      "Electronic Energy (Hartree): -1.7841543639\n",
      "Nuclear Repulsion Energy (Hartree): 0.7199689913\n"
     ]
    }
   ],
   "source": [
    "optimal_point= simulation_result['optimal_point']\n",
    "algo = VQE(qubit_op, var_form, COBYLA(1),initial_point=optimal_point)\n",
    "hardware_result = algo.run(backend)#, shots=8192)\n",
    "hardware_result = operator.process_algorithm_result(hardware_result)\n",
    "\n",
    "print('========= Ground State Energy =========')\n",
    "print('Total Energy (Hartree): {:.10f}'.format(hardware_result.energy))\n",
    "print('Electronic Energy (Hartree): {:.10f}'.format(hardware_result.electronic_energy))\n",
    "print('Nuclear Repulsion Energy (Hartree): {:.10f}'.format(hardware_result.nuclear_repulsion_energy))"
   ]
  },
  {
   "cell_type": "code",
   "execution_count": null,
   "metadata": {},
   "outputs": [],
   "source": []
  }
 ],
 "metadata": {
  "kernelspec": {
   "display_name": "Python 3",
   "language": "python",
   "name": "python3"
  },
  "language_info": {
   "codemirror_mode": {
    "name": "ipython",
    "version": 3
   },
   "file_extension": ".py",
   "mimetype": "text/x-python",
   "name": "python",
   "nbconvert_exporter": "python",
   "pygments_lexer": "ipython3",
   "version": "3.7.7"
  }
 },
 "nbformat": 4,
 "nbformat_minor": 4
}
